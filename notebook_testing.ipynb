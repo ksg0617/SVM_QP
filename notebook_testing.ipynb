{
 "cells": [
  {
   "cell_type": "markdown",
   "metadata": {},
   "source": [
    "# Read Dataset\n"
   ]
  },
  {
   "cell_type": "code",
   "execution_count": 14,
   "metadata": {},
   "outputs": [
    {
     "name": "stdout",
     "output_type": "stream",
     "text": [
      "       Date  Mkt-RF   SMB   HML   RMW   CMA     RF\n",
      "0  19630701   -0.67  0.02 -0.35  0.03  0.13  0.012\n",
      "1  19630702    0.79 -0.28  0.28 -0.08 -0.21  0.012\n",
      "2  19630703    0.63 -0.18 -0.10  0.13 -0.25  0.012\n",
      "3  19630705    0.40  0.09 -0.28  0.07 -0.30  0.012\n",
      "4  19630708   -0.63  0.07 -0.20 -0.27  0.06  0.012\n",
      "          Mkt-RF   SMB   HML   RMW   CMA     RF\n",
      "Date                                           \n",
      "19630701   -0.67  0.02 -0.35  0.03  0.13  0.012\n",
      "19630702    0.79 -0.28  0.28 -0.08 -0.21  0.012\n",
      "19630703    0.63 -0.18 -0.10  0.13 -0.25  0.012\n",
      "19630705    0.40  0.09 -0.28  0.07 -0.30  0.012\n",
      "19630708   -0.63  0.07 -0.20 -0.27  0.06  0.012\n"
     ]
    }
   ],
   "source": [
    "import pandas as pd\n",
    "\n",
    "# Adjust the path to wherever your CSV is located\n",
    "df_factors = pd.read_csv(\"F-F_Research_Data_5_Factors_2x3_daily.CSV\")\n",
    "\n",
    "# Let's print the head\n",
    "print(df_factors.head())\n",
    "\n",
    "# df has 7 columns: [Date, Mkt-RF, SMB, HML, RMW, CMA, RF]\n",
    "df_factors.set_index('Date', inplace=True)\n",
    "\n",
    "print(df_factors.head())"
   ]
  },
  {
   "cell_type": "code",
   "execution_count": 16,
   "metadata": {},
   "outputs": [
    {
     "name": "stdout",
     "output_type": "stream",
     "text": [
      "Features shape: torch.Size([32, 6])\n",
      "Labels shape: torch.Size([32])\n"
     ]
    }
   ],
   "source": [
    "import torch\n",
    "from torch.utils.data import Dataset, DataLoader\n",
    "\n",
    "class FamaFrenchDataset(Dataset):\n",
    "    def __init__(self, df):\n",
    "        \"\"\"\n",
    "        df: a pandas dataframe with columns [Mkt-RF, SMB, HML, RMW, CMA, RF]\n",
    "        \"\"\"\n",
    "        # Convert entire dataframe to a float tensor\n",
    "        self.features = torch.tensor(df.values, dtype=torch.float64)\n",
    "        \n",
    "        # Example target: We can define any label. \n",
    "        # For demonstration, let's do a simplistic rule:\n",
    "        # if (Mkt-RF) > 0 => label = +1, else label = -1\n",
    "        # In practice, your label might come from another file (asset returns, etc.)\n",
    "        mktrf_col_index = df.columns.get_loc(\"Mkt-RF\")\n",
    "        mkt_rf_values = self.features[:, mktrf_col_index]\n",
    "        self.labels = torch.where(mkt_rf_values > 0, 1.0, -1.0)\n",
    "        \n",
    "    def __len__(self):\n",
    "        return len(self.features)\n",
    "    \n",
    "    def __getitem__(self, idx):\n",
    "        x = self.features[idx]  # shape: [6] if 6 columns\n",
    "        y = self.labels[idx]    # scalar in {+1, -1}\n",
    "        return x, y\n",
    "\n",
    "# Instantiate the dataset\n",
    "dataset = FamaFrenchDataset(df_factors)\n",
    "\n",
    "# Optional: DataLoader for batching\n",
    "data_loader = DataLoader(dataset, batch_size=32, shuffle=True)\n",
    "\n",
    "# Quick check\n",
    "for batch_x, batch_y in data_loader:\n",
    "    print(\"Features shape:\", batch_x.shape)\n",
    "    print(\"Labels shape:\", batch_y.shape)\n",
    "    break"
   ]
  },
  {
   "cell_type": "code",
   "execution_count": 19,
   "metadata": {},
   "outputs": [
    {
     "name": "stdout",
     "output_type": "stream",
     "text": [
      "Epoch 1/10, Loss=0.3908\n",
      "Epoch 2/10, Loss=0.1877\n",
      "Epoch 3/10, Loss=0.1393\n",
      "Epoch 4/10, Loss=0.1137\n",
      "Epoch 5/10, Loss=0.0971\n",
      "Epoch 6/10, Loss=0.0851\n",
      "Epoch 7/10, Loss=0.0759\n",
      "Epoch 8/10, Loss=0.0682\n",
      "Epoch 9/10, Loss=0.0617\n",
      "Epoch 10/10, Loss=0.0562\n"
     ]
    }
   ],
   "source": [
    "import torch.nn as nn\n",
    "import torch.optim as optim\n",
    "\n",
    "class SVMModel(nn.Module):\n",
    "    def __init__(self, input_dim):\n",
    "        super(SVMModel, self).__init__()\n",
    "        self.linear = nn.Linear(input_dim, 1)\n",
    "\n",
    "    def forward(self, x):\n",
    "        return self.linear(x)\n",
    "\n",
    "def hinge_loss(scores, labels):\n",
    "    labels = labels.view(-1, 1)\n",
    "    return torch.clamp(1 - scores * labels, min=0).mean()\n",
    "\n",
    "def train_factors_svm(data_loader, num_features=6, epochs=10, lr=1e-2):\n",
    "    model = SVMModel(input_dim=num_features).double()\n",
    "    optimizer = optim.Adam(model.parameters(), lr=lr)\n",
    "\n",
    "    for epoch in range(epochs):\n",
    "        total_loss = 0.0\n",
    "        for batch_x, batch_y in data_loader:\n",
    "            # convert to float 64\n",
    "            batch_x = batch_x.double()\n",
    "            batch_y = batch_y.double()\n",
    "\n",
    "            optimizer.zero_grad()\n",
    "            scores = model(batch_x)  # shape [batch_size, 1]\n",
    "            loss = hinge_loss(scores, batch_y)\n",
    "            loss.backward()\n",
    "            optimizer.step()\n",
    "            total_loss += loss.item() * len(batch_x)\n",
    "        \n",
    "        avg_loss = total_loss / len(data_loader.dataset)\n",
    "        print(f\"Epoch {epoch+1}/{epochs}, Loss={avg_loss:.4f}\")\n",
    "    \n",
    "    return model\n",
    "\n",
    "# Now train\n",
    "model = train_factors_svm(data_loader)"
   ]
  },
  {
   "cell_type": "code",
   "execution_count": null,
   "metadata": {},
   "outputs": [],
   "source": []
  }
 ],
 "metadata": {
  "kernelspec": {
   "display_name": "base",
   "language": "python",
   "name": "python3"
  },
  "language_info": {
   "codemirror_mode": {
    "name": "ipython",
    "version": 3
   },
   "file_extension": ".py",
   "mimetype": "text/x-python",
   "name": "python",
   "nbconvert_exporter": "python",
   "pygments_lexer": "ipython3",
   "version": "3.12.7"
  }
 },
 "nbformat": 4,
 "nbformat_minor": 2
}
